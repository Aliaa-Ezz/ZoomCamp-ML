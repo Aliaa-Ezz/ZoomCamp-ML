{
 "cells": [
  {
   "cell_type": "code",
   "execution_count": 1,
   "id": "07cdaf7c",
   "metadata": {},
   "outputs": [],
   "source": [
    "import pandas as pd\n",
    "import numpy as np\n",
    "import matplotlib.pyplot as plt\n",
    "import seaborn as sns"
   ]
  },
  {
   "cell_type": "code",
   "execution_count": 2,
   "id": "aed70809",
   "metadata": {},
   "outputs": [],
   "source": [
    "df = pd.read_csv('AB_NYC_2019.csv')"
   ]
  },
  {
   "cell_type": "code",
   "execution_count": 3,
   "id": "5a812fa0",
   "metadata": {},
   "outputs": [
    {
     "data": {
      "text/html": [
       "<div>\n",
       "<style scoped>\n",
       "    .dataframe tbody tr th:only-of-type {\n",
       "        vertical-align: middle;\n",
       "    }\n",
       "\n",
       "    .dataframe tbody tr th {\n",
       "        vertical-align: top;\n",
       "    }\n",
       "\n",
       "    .dataframe thead th {\n",
       "        text-align: right;\n",
       "    }\n",
       "</style>\n",
       "<table border=\"1\" class=\"dataframe\">\n",
       "  <thead>\n",
       "    <tr style=\"text-align: right;\">\n",
       "      <th></th>\n",
       "      <th>id</th>\n",
       "      <th>name</th>\n",
       "      <th>host_id</th>\n",
       "      <th>host_name</th>\n",
       "      <th>neighbourhood_group</th>\n",
       "      <th>neighbourhood</th>\n",
       "      <th>latitude</th>\n",
       "      <th>longitude</th>\n",
       "      <th>room_type</th>\n",
       "      <th>price</th>\n",
       "      <th>minimum_nights</th>\n",
       "      <th>number_of_reviews</th>\n",
       "      <th>last_review</th>\n",
       "      <th>reviews_per_month</th>\n",
       "      <th>calculated_host_listings_count</th>\n",
       "      <th>availability_365</th>\n",
       "    </tr>\n",
       "  </thead>\n",
       "  <tbody>\n",
       "    <tr>\n",
       "      <th>0</th>\n",
       "      <td>2539</td>\n",
       "      <td>Clean &amp; quiet apt home by the park</td>\n",
       "      <td>2787</td>\n",
       "      <td>John</td>\n",
       "      <td>Brooklyn</td>\n",
       "      <td>Kensington</td>\n",
       "      <td>40.64749</td>\n",
       "      <td>-73.97237</td>\n",
       "      <td>Private room</td>\n",
       "      <td>149</td>\n",
       "      <td>1</td>\n",
       "      <td>9</td>\n",
       "      <td>2018-10-19</td>\n",
       "      <td>0.21</td>\n",
       "      <td>6</td>\n",
       "      <td>365</td>\n",
       "    </tr>\n",
       "    <tr>\n",
       "      <th>1</th>\n",
       "      <td>2595</td>\n",
       "      <td>Skylit Midtown Castle</td>\n",
       "      <td>2845</td>\n",
       "      <td>Jennifer</td>\n",
       "      <td>Manhattan</td>\n",
       "      <td>Midtown</td>\n",
       "      <td>40.75362</td>\n",
       "      <td>-73.98377</td>\n",
       "      <td>Entire home/apt</td>\n",
       "      <td>225</td>\n",
       "      <td>1</td>\n",
       "      <td>45</td>\n",
       "      <td>2019-05-21</td>\n",
       "      <td>0.38</td>\n",
       "      <td>2</td>\n",
       "      <td>355</td>\n",
       "    </tr>\n",
       "    <tr>\n",
       "      <th>2</th>\n",
       "      <td>3647</td>\n",
       "      <td>THE VILLAGE OF HARLEM....NEW YORK !</td>\n",
       "      <td>4632</td>\n",
       "      <td>Elisabeth</td>\n",
       "      <td>Manhattan</td>\n",
       "      <td>Harlem</td>\n",
       "      <td>40.80902</td>\n",
       "      <td>-73.94190</td>\n",
       "      <td>Private room</td>\n",
       "      <td>150</td>\n",
       "      <td>3</td>\n",
       "      <td>0</td>\n",
       "      <td>NaN</td>\n",
       "      <td>NaN</td>\n",
       "      <td>1</td>\n",
       "      <td>365</td>\n",
       "    </tr>\n",
       "    <tr>\n",
       "      <th>3</th>\n",
       "      <td>3831</td>\n",
       "      <td>Cozy Entire Floor of Brownstone</td>\n",
       "      <td>4869</td>\n",
       "      <td>LisaRoxanne</td>\n",
       "      <td>Brooklyn</td>\n",
       "      <td>Clinton Hill</td>\n",
       "      <td>40.68514</td>\n",
       "      <td>-73.95976</td>\n",
       "      <td>Entire home/apt</td>\n",
       "      <td>89</td>\n",
       "      <td>1</td>\n",
       "      <td>270</td>\n",
       "      <td>2019-07-05</td>\n",
       "      <td>4.64</td>\n",
       "      <td>1</td>\n",
       "      <td>194</td>\n",
       "    </tr>\n",
       "    <tr>\n",
       "      <th>4</th>\n",
       "      <td>5022</td>\n",
       "      <td>Entire Apt: Spacious Studio/Loft by central park</td>\n",
       "      <td>7192</td>\n",
       "      <td>Laura</td>\n",
       "      <td>Manhattan</td>\n",
       "      <td>East Harlem</td>\n",
       "      <td>40.79851</td>\n",
       "      <td>-73.94399</td>\n",
       "      <td>Entire home/apt</td>\n",
       "      <td>80</td>\n",
       "      <td>10</td>\n",
       "      <td>9</td>\n",
       "      <td>2018-11-19</td>\n",
       "      <td>0.10</td>\n",
       "      <td>1</td>\n",
       "      <td>0</td>\n",
       "    </tr>\n",
       "  </tbody>\n",
       "</table>\n",
       "</div>"
      ],
      "text/plain": [
       "     id                                              name  host_id  \\\n",
       "0  2539                Clean & quiet apt home by the park     2787   \n",
       "1  2595                             Skylit Midtown Castle     2845   \n",
       "2  3647               THE VILLAGE OF HARLEM....NEW YORK !     4632   \n",
       "3  3831                   Cozy Entire Floor of Brownstone     4869   \n",
       "4  5022  Entire Apt: Spacious Studio/Loft by central park     7192   \n",
       "\n",
       "     host_name neighbourhood_group neighbourhood  latitude  longitude  \\\n",
       "0         John            Brooklyn    Kensington  40.64749  -73.97237   \n",
       "1     Jennifer           Manhattan       Midtown  40.75362  -73.98377   \n",
       "2    Elisabeth           Manhattan        Harlem  40.80902  -73.94190   \n",
       "3  LisaRoxanne            Brooklyn  Clinton Hill  40.68514  -73.95976   \n",
       "4        Laura           Manhattan   East Harlem  40.79851  -73.94399   \n",
       "\n",
       "         room_type  price  minimum_nights  number_of_reviews last_review  \\\n",
       "0     Private room    149               1                  9  2018-10-19   \n",
       "1  Entire home/apt    225               1                 45  2019-05-21   \n",
       "2     Private room    150               3                  0         NaN   \n",
       "3  Entire home/apt     89               1                270  2019-07-05   \n",
       "4  Entire home/apt     80              10                  9  2018-11-19   \n",
       "\n",
       "   reviews_per_month  calculated_host_listings_count  availability_365  \n",
       "0               0.21                               6               365  \n",
       "1               0.38                               2               355  \n",
       "2                NaN                               1               365  \n",
       "3               4.64                               1               194  \n",
       "4               0.10                               1                 0  "
      ]
     },
     "execution_count": 3,
     "metadata": {},
     "output_type": "execute_result"
    }
   ],
   "source": [
    "df.head()"
   ]
  },
  {
   "cell_type": "code",
   "execution_count": 4,
   "id": "316f83b1",
   "metadata": {},
   "outputs": [
    {
     "data": {
      "text/plain": [
       "((48895, 16),\n",
       " Index(['id', 'name', 'host_id', 'host_name', 'neighbourhood_group',\n",
       "        'neighbourhood', 'latitude', 'longitude', 'room_type', 'price',\n",
       "        'minimum_nights', 'number_of_reviews', 'last_review',\n",
       "        'reviews_per_month', 'calculated_host_listings_count',\n",
       "        'availability_365'],\n",
       "       dtype='object'))"
      ]
     },
     "execution_count": 4,
     "metadata": {},
     "output_type": "execute_result"
    }
   ],
   "source": [
    "df.shape, df.columns"
   ]
  },
  {
   "cell_type": "code",
   "execution_count": 5,
   "id": "16818699",
   "metadata": {},
   "outputs": [],
   "source": [
    "df = df[[\n",
    "    'neighbourhood_group',\n",
    "    'room_type',\n",
    "    'latitude',\n",
    "    'longitude',\n",
    "    'price',\n",
    "    'minimum_nights',\n",
    "    'number_of_reviews',\n",
    "    'reviews_per_month',\n",
    "    'calculated_host_listings_count',\n",
    "    'availability_365']]"
   ]
  },
  {
   "cell_type": "code",
   "execution_count": 6,
   "id": "cf29928d",
   "metadata": {},
   "outputs": [
    {
     "data": {
      "text/plain": [
       "(48895, 10)"
      ]
     },
     "execution_count": 6,
     "metadata": {},
     "output_type": "execute_result"
    }
   ],
   "source": [
    "df.shape"
   ]
  },
  {
   "cell_type": "code",
   "execution_count": 7,
   "id": "db9a454e",
   "metadata": {},
   "outputs": [
    {
     "data": {
      "text/plain": [
       "neighbourhood_group                   0\n",
       "room_type                             0\n",
       "latitude                              0\n",
       "longitude                             0\n",
       "price                                 0\n",
       "minimum_nights                        0\n",
       "number_of_reviews                     0\n",
       "reviews_per_month                 10052\n",
       "calculated_host_listings_count        0\n",
       "availability_365                      0\n",
       "dtype: int64"
      ]
     },
     "execution_count": 7,
     "metadata": {},
     "output_type": "execute_result"
    }
   ],
   "source": [
    "df.isnull().sum()"
   ]
  },
  {
   "cell_type": "code",
   "execution_count": 8,
   "id": "c4337a52",
   "metadata": {},
   "outputs": [],
   "source": [
    "df = df.fillna(0)"
   ]
  },
  {
   "cell_type": "code",
   "execution_count": 9,
   "id": "e7ea24ab",
   "metadata": {
    "scrolled": true
   },
   "outputs": [
    {
     "data": {
      "text/plain": [
       "neighbourhood_group               0\n",
       "room_type                         0\n",
       "latitude                          0\n",
       "longitude                         0\n",
       "price                             0\n",
       "minimum_nights                    0\n",
       "number_of_reviews                 0\n",
       "reviews_per_month                 0\n",
       "calculated_host_listings_count    0\n",
       "availability_365                  0\n",
       "dtype: int64"
      ]
     },
     "execution_count": 9,
     "metadata": {},
     "output_type": "execute_result"
    }
   ],
   "source": [
    "df.isnull().sum()"
   ]
  },
  {
   "cell_type": "code",
   "execution_count": 10,
   "id": "1bc3f07b",
   "metadata": {},
   "outputs": [],
   "source": [
    "df.columns = df.columns.str.lower().str.replace(' ', '_')\n",
    "\n",
    "categorical_columns = list(df.dtypes[df.dtypes == 'object'].index)\n",
    "\n",
    "for c in categorical_columns:\n",
    "    df[c] = df[c].str.lower().str.replace(' ', '_')"
   ]
  },
  {
   "cell_type": "code",
   "execution_count": 11,
   "id": "8bc679a5",
   "metadata": {},
   "outputs": [],
   "source": [
    "df['above_average'] = (df.price >= 152).astype(int)"
   ]
  },
  {
   "cell_type": "markdown",
   "id": "b087ec31",
   "metadata": {},
   "source": [
    "#### Question 1\n",
    "\n",
    "What is the most frequent observation (mode) for the column 'neighbourhood_group'?"
   ]
  },
  {
   "cell_type": "code",
   "execution_count": 12,
   "id": "0378c09f",
   "metadata": {},
   "outputs": [
    {
     "data": {
      "text/plain": [
       "manhattan        21661\n",
       "brooklyn         20104\n",
       "queens            5666\n",
       "bronx             1091\n",
       "staten_island      373\n",
       "Name: neighbourhood_group, dtype: int64"
      ]
     },
     "execution_count": 12,
     "metadata": {},
     "output_type": "execute_result"
    }
   ],
   "source": [
    "df.neighbourhood_group.value_counts()"
   ]
  },
  {
   "cell_type": "markdown",
   "id": "56b9797c",
   "metadata": {},
   "source": [
    "Split the data\n",
    "\n",
    "    Split your data in train/val/test sets, with 60%/20%/20% distribution.\n",
    "    Use Scikit-Learn for that (the train_test_split function) and set the seed to 42.\n",
    "    Make sure that the target value ('price') is not in your dataframe.\n"
   ]
  },
  {
   "cell_type": "code",
   "execution_count": 13,
   "id": "3fc1148f",
   "metadata": {},
   "outputs": [],
   "source": [
    "from sklearn.model_selection import train_test_split"
   ]
  },
  {
   "cell_type": "code",
   "execution_count": 14,
   "id": "36ed3a58",
   "metadata": {},
   "outputs": [],
   "source": [
    "df_full_train, df_test = train_test_split(df, test_size=0.2, random_state=42)\n",
    "df_train, df_val = train_test_split(df_full_train, test_size=0.25, random_state=42)"
   ]
  },
  {
   "cell_type": "code",
   "execution_count": 15,
   "id": "2eaded59",
   "metadata": {},
   "outputs": [],
   "source": [
    "df_train = df_train.reset_index(drop=True)\n",
    "df_val = df_val.reset_index(drop=True)\n",
    "df_test = df_test.reset_index(drop=True)"
   ]
  },
  {
   "cell_type": "code",
   "execution_count": 16,
   "id": "94ef4e7d",
   "metadata": {},
   "outputs": [],
   "source": [
    "df_copy_full_train = df_full_train.copy()\n",
    "df_copy_train = df_train.copy()\n",
    "df_copy_val = df_val.copy()\n",
    "df_copy_test = df_test.copy()"
   ]
  },
  {
   "cell_type": "code",
   "execution_count": 17,
   "id": "9e5318ce",
   "metadata": {},
   "outputs": [],
   "source": [
    "y_train = df_train.above_average.values\n",
    "y_val = df_val.above_average.values\n",
    "y_test = df_test.above_average.values\n",
    "\n",
    "y_train_lin = np.log1p(df_train.price.values)\n",
    "y_val_lin = np.log1p(df_val.price.values)\n",
    "y_test_lin = np.log1p(df_test.price.values)\n",
    "\n",
    "\n",
    "\n",
    "\n",
    "del df_train['price']\n",
    "del df_val['price']\n",
    "del df_test['price']\n",
    "del df_full_train['price']\n",
    "del df_train['above_average']\n",
    "del df_val['above_average']\n",
    "del df_test['above_average']\n"
   ]
  },
  {
   "cell_type": "code",
   "execution_count": 18,
   "id": "a48f5e6e",
   "metadata": {},
   "outputs": [],
   "source": [
    "del df_copy_full_train['above_average']\n",
    "del df_copy_train['above_average']\n",
    "del df_copy_val['above_average']\n",
    "del df_copy_test['above_average']\n",
    "\n",
    "\n",
    "del df_copy_train['price']\n",
    "del df_copy_val['price']\n",
    "del df_copy_test['price']\n"
   ]
  },
  {
   "cell_type": "markdown",
   "id": "ec89724f",
   "metadata": {},
   "source": [
    "#### Question 2\n",
    "\n",
    "    Create the correlation matrix for the numerical features of your train dataset.\n",
    "    In a correlation matrix, you compute the correlation coefficient between every pair of features in the dataset.\n",
    "    What are the two features that have the biggest correlation in this dataset?\n"
   ]
  },
  {
   "cell_type": "code",
   "execution_count": 19,
   "id": "b40dc531",
   "metadata": {},
   "outputs": [
    {
     "data": {
      "text/plain": [
       "(neighbourhood_group                object\n",
       " room_type                          object\n",
       " latitude                          float64\n",
       " longitude                         float64\n",
       " price                               int64\n",
       " minimum_nights                      int64\n",
       " number_of_reviews                   int64\n",
       " reviews_per_month                 float64\n",
       " calculated_host_listings_count      int64\n",
       " availability_365                    int64\n",
       " above_average                       int32\n",
       " dtype: object,\n",
       " Index(['neighbourhood_group', 'room_type', 'latitude', 'longitude', 'price',\n",
       "        'minimum_nights', 'number_of_reviews', 'reviews_per_month',\n",
       "        'calculated_host_listings_count', 'availability_365', 'above_average'],\n",
       "       dtype='object'))"
      ]
     },
     "execution_count": 19,
     "metadata": {},
     "output_type": "execute_result"
    }
   ],
   "source": [
    "df.dtypes, df.columns"
   ]
  },
  {
   "cell_type": "code",
   "execution_count": 20,
   "id": "5fc955ef",
   "metadata": {},
   "outputs": [],
   "source": [
    "numerical= ['latitude', 'longitude','minimum_nights', 'number_of_reviews', 'reviews_per_month',\n",
    "        'calculated_host_listings_count', 'availability_365']"
   ]
  },
  {
   "cell_type": "code",
   "execution_count": 21,
   "id": "d76161ba",
   "metadata": {},
   "outputs": [],
   "source": [
    "corrMatrix = df_full_train.corr().abs()"
   ]
  },
  {
   "cell_type": "code",
   "execution_count": 22,
   "id": "63a1ce27",
   "metadata": {},
   "outputs": [
    {
     "data": {
      "image/png": "[encoded data removed]",
      "text/plain": [
       "<Figure size 432x288 with 2 Axes>"
      ]
     },
     "metadata": {
      "needs_background": "light"
     },
     "output_type": "display_data"
    }
   ],
   "source": [
    "sns.heatmap(corrMatrix, annot=True)\n",
    "plt.show()"
   ]
  },
  {
   "cell_type": "markdown",
   "id": "19caf9cc",
   "metadata": {},
   "source": [
    "Make price binary\n",
    "\n",
    "    We need to turn the price variable from numeric into binary.\n",
    "    Let's create a variable above_average which is 1 if the price is above (or equal to) 152"
   ]
  },
  {
   "cell_type": "code",
   "execution_count": 23,
   "id": "16036a51",
   "metadata": {},
   "outputs": [],
   "source": [
    "df_full_train = df_full_train.reset_index(drop = True)"
   ]
  },
  {
   "cell_type": "code",
   "execution_count": 24,
   "id": "58ff04e6",
   "metadata": {},
   "outputs": [
    {
     "data": {
      "text/html": [
       "<div>\n",
       "<style scoped>\n",
       "    .dataframe tbody tr th:only-of-type {\n",
       "        vertical-align: middle;\n",
       "    }\n",
       "\n",
       "    .dataframe tbody tr th {\n",
       "        vertical-align: top;\n",
       "    }\n",
       "\n",
       "    .dataframe thead th {\n",
       "        text-align: right;\n",
       "    }\n",
       "</style>\n",
       "<table border=\"1\" class=\"dataframe\">\n",
       "  <thead>\n",
       "    <tr style=\"text-align: right;\">\n",
       "      <th></th>\n",
       "      <th>neighbourhood_group</th>\n",
       "      <th>room_type</th>\n",
       "      <th>latitude</th>\n",
       "      <th>longitude</th>\n",
       "      <th>minimum_nights</th>\n",
       "      <th>number_of_reviews</th>\n",
       "      <th>reviews_per_month</th>\n",
       "      <th>calculated_host_listings_count</th>\n",
       "      <th>availability_365</th>\n",
       "      <th>above_average</th>\n",
       "    </tr>\n",
       "  </thead>\n",
       "  <tbody>\n",
       "    <tr>\n",
       "      <th>0</th>\n",
       "      <td>brooklyn</td>\n",
       "      <td>entire_home/apt</td>\n",
       "      <td>40.71577</td>\n",
       "      <td>-73.95530</td>\n",
       "      <td>3</td>\n",
       "      <td>11</td>\n",
       "      <td>0.87</td>\n",
       "      <td>1</td>\n",
       "      <td>1</td>\n",
       "      <td>1</td>\n",
       "    </tr>\n",
       "    <tr>\n",
       "      <th>1</th>\n",
       "      <td>manhattan</td>\n",
       "      <td>private_room</td>\n",
       "      <td>40.84917</td>\n",
       "      <td>-73.94048</td>\n",
       "      <td>2</td>\n",
       "      <td>2</td>\n",
       "      <td>0.16</td>\n",
       "      <td>1</td>\n",
       "      <td>0</td>\n",
       "      <td>0</td>\n",
       "    </tr>\n",
       "    <tr>\n",
       "      <th>2</th>\n",
       "      <td>brooklyn</td>\n",
       "      <td>private_room</td>\n",
       "      <td>40.68993</td>\n",
       "      <td>-73.95947</td>\n",
       "      <td>2</td>\n",
       "      <td>0</td>\n",
       "      <td>0.00</td>\n",
       "      <td>2</td>\n",
       "      <td>0</td>\n",
       "      <td>0</td>\n",
       "    </tr>\n",
       "    <tr>\n",
       "      <th>3</th>\n",
       "      <td>brooklyn</td>\n",
       "      <td>entire_home/apt</td>\n",
       "      <td>40.68427</td>\n",
       "      <td>-73.93118</td>\n",
       "      <td>3</td>\n",
       "      <td>87</td>\n",
       "      <td>4.91</td>\n",
       "      <td>1</td>\n",
       "      <td>267</td>\n",
       "      <td>0</td>\n",
       "    </tr>\n",
       "    <tr>\n",
       "      <th>4</th>\n",
       "      <td>queens</td>\n",
       "      <td>private_room</td>\n",
       "      <td>40.74705</td>\n",
       "      <td>-73.89564</td>\n",
       "      <td>5</td>\n",
       "      <td>13</td>\n",
       "      <td>0.25</td>\n",
       "      <td>1</td>\n",
       "      <td>0</td>\n",
       "      <td>0</td>\n",
       "    </tr>\n",
       "    <tr>\n",
       "      <th>...</th>\n",
       "      <td>...</td>\n",
       "      <td>...</td>\n",
       "      <td>...</td>\n",
       "      <td>...</td>\n",
       "      <td>...</td>\n",
       "      <td>...</td>\n",
       "      <td>...</td>\n",
       "      <td>...</td>\n",
       "      <td>...</td>\n",
       "      <td>...</td>\n",
       "    </tr>\n",
       "    <tr>\n",
       "      <th>39111</th>\n",
       "      <td>manhattan</td>\n",
       "      <td>shared_room</td>\n",
       "      <td>40.84650</td>\n",
       "      <td>-73.94319</td>\n",
       "      <td>1</td>\n",
       "      <td>0</td>\n",
       "      <td>0.00</td>\n",
       "      <td>1</td>\n",
       "      <td>0</td>\n",
       "      <td>0</td>\n",
       "    </tr>\n",
       "    <tr>\n",
       "      <th>39112</th>\n",
       "      <td>manhattan</td>\n",
       "      <td>private_room</td>\n",
       "      <td>40.73957</td>\n",
       "      <td>-74.00082</td>\n",
       "      <td>2</td>\n",
       "      <td>4</td>\n",
       "      <td>1.90</td>\n",
       "      <td>1</td>\n",
       "      <td>76</td>\n",
       "      <td>0</td>\n",
       "    </tr>\n",
       "    <tr>\n",
       "      <th>39113</th>\n",
       "      <td>manhattan</td>\n",
       "      <td>entire_home/apt</td>\n",
       "      <td>40.78318</td>\n",
       "      <td>-73.97372</td>\n",
       "      <td>30</td>\n",
       "      <td>1</td>\n",
       "      <td>0.34</td>\n",
       "      <td>5</td>\n",
       "      <td>261</td>\n",
       "      <td>0</td>\n",
       "    </tr>\n",
       "    <tr>\n",
       "      <th>39114</th>\n",
       "      <td>manhattan</td>\n",
       "      <td>entire_home/apt</td>\n",
       "      <td>40.77508</td>\n",
       "      <td>-73.97990</td>\n",
       "      <td>2</td>\n",
       "      <td>11</td>\n",
       "      <td>0.13</td>\n",
       "      <td>1</td>\n",
       "      <td>2</td>\n",
       "      <td>0</td>\n",
       "    </tr>\n",
       "    <tr>\n",
       "      <th>39115</th>\n",
       "      <td>queens</td>\n",
       "      <td>entire_home/apt</td>\n",
       "      <td>40.74657</td>\n",
       "      <td>-73.94555</td>\n",
       "      <td>5</td>\n",
       "      <td>1</td>\n",
       "      <td>0.03</td>\n",
       "      <td>1</td>\n",
       "      <td>0</td>\n",
       "      <td>0</td>\n",
       "    </tr>\n",
       "  </tbody>\n",
       "</table>\n",
       "<p>39116 rows × 10 columns</p>\n",
       "</div>"
      ],
      "text/plain": [
       "      neighbourhood_group        room_type  latitude  longitude  \\\n",
       "0                brooklyn  entire_home/apt  40.71577  -73.95530   \n",
       "1               manhattan     private_room  40.84917  -73.94048   \n",
       "2                brooklyn     private_room  40.68993  -73.95947   \n",
       "3                brooklyn  entire_home/apt  40.68427  -73.93118   \n",
       "4                  queens     private_room  40.74705  -73.89564   \n",
       "...                   ...              ...       ...        ...   \n",
       "39111           manhattan      shared_room  40.84650  -73.94319   \n",
       "39112           manhattan     private_room  40.73957  -74.00082   \n",
       "39113           manhattan  entire_home/apt  40.78318  -73.97372   \n",
       "39114           manhattan  entire_home/apt  40.77508  -73.97990   \n",
       "39115              queens  entire_home/apt  40.74657  -73.94555   \n",
       "\n",
       "       minimum_nights  number_of_reviews  reviews_per_month  \\\n",
       "0                   3                 11               0.87   \n",
       "1                   2                  2               0.16   \n",
       "2                   2                  0               0.00   \n",
       "3                   3                 87               4.91   \n",
       "4                   5                 13               0.25   \n",
       "...               ...                ...                ...   \n",
       "39111               1                  0               0.00   \n",
       "39112               2                  4               1.90   \n",
       "39113              30                  1               0.34   \n",
       "39114               2                 11               0.13   \n",
       "39115               5                  1               0.03   \n",
       "\n",
       "       calculated_host_listings_count  availability_365  above_average  \n",
       "0                                   1                 1              1  \n",
       "1                                   1                 0              0  \n",
       "2                                   2                 0              0  \n",
       "3                                   1               267              0  \n",
       "4                                   1                 0              0  \n",
       "...                               ...               ...            ...  \n",
       "39111                               1                 0              0  \n",
       "39112                               1                76              0  \n",
       "39113                               5               261              0  \n",
       "39114                               1                 2              0  \n",
       "39115                               1                 0              0  \n",
       "\n",
       "[39116 rows x 10 columns]"
      ]
     },
     "execution_count": 24,
     "metadata": {},
     "output_type": "execute_result"
    }
   ],
   "source": [
    "df_full_train"
   ]
  },
  {
   "cell_type": "markdown",
   "id": "f8e021cf",
   "metadata": {},
   "source": [
    "#### Question 3\n",
    "\n",
    "    Calculate the mutual information score with the (binarized) price for the two categorical variables that we have. Use the training set only.\n",
    "    Which of these two variables has bigger score?\n",
    "    Round it to 2 decimal digits using round(score, 2)\n"
   ]
  },
  {
   "cell_type": "code",
   "execution_count": 25,
   "id": "ecc32ce8",
   "metadata": {},
   "outputs": [],
   "source": [
    "from sklearn.metrics import mutual_info_score"
   ]
  },
  {
   "cell_type": "code",
   "execution_count": 26,
   "id": "e4861540",
   "metadata": {},
   "outputs": [
    {
     "data": {
      "text/plain": [
       "0.05"
      ]
     },
     "execution_count": 26,
     "metadata": {},
     "output_type": "execute_result"
    }
   ],
   "source": [
    "mutual_info_score(df_full_train.above_average, df_full_train.neighbourhood_group).round(2)"
   ]
  },
  {
   "cell_type": "code",
   "execution_count": 27,
   "id": "26ed0290",
   "metadata": {},
   "outputs": [
    {
     "data": {
      "text/plain": [
       "0.14"
      ]
     },
     "execution_count": 27,
     "metadata": {},
     "output_type": "execute_result"
    }
   ],
   "source": [
    "mutual_info_score(df_full_train.above_average, df_full_train.room_type).round(2)"
   ]
  },
  {
   "cell_type": "markdown",
   "id": "d5070605",
   "metadata": {},
   "source": [
    "#### Question 4\n",
    "\n",
    "    Now let's train a logistic regression\n",
    "    Remember that we have two categorical variables in the data. Include them using one-hot encoding.\n",
    "    Fit the model on the training dataset.\n",
    "        To make sure the results are reproducible across different versions of Scikit-Learn, fit the model with these parameters:\n",
    "        model = LogisticRegression(solver='lbfgs', C=1.0, random_state=42)\n",
    "    Calculate the accuracy on the validation dataset and rount it to 2 decimal digits.\n"
   ]
  },
  {
   "cell_type": "code",
   "execution_count": 28,
   "id": "038fc78f",
   "metadata": {},
   "outputs": [],
   "source": [
    "from sklearn.feature_extraction import DictVectorizer"
   ]
  },
  {
   "cell_type": "code",
   "execution_count": 29,
   "id": "537844ef",
   "metadata": {},
   "outputs": [],
   "source": [
    "categorical = ['neighbourhood_group', 'room_type']"
   ]
  },
  {
   "cell_type": "code",
   "execution_count": 30,
   "id": "4e2e5bf4",
   "metadata": {},
   "outputs": [],
   "source": [
    "dv = DictVectorizer(sparse=False)\n",
    "\n",
    "train_dict = df_train[categorical + numerical].to_dict(orient='records')\n",
    "X_train = dv.fit_transform(train_dict)\n",
    "\n",
    "val_dict = df_val[categorical + numerical].to_dict(orient='records')\n",
    "X_val = dv.transform(val_dict)"
   ]
  },
  {
   "cell_type": "code",
   "execution_count": 31,
   "id": "056e4c17",
   "metadata": {},
   "outputs": [],
   "source": [
    "from sklearn.linear_model import LogisticRegression"
   ]
  },
  {
   "cell_type": "code",
   "execution_count": 32,
   "id": "b0bf2843",
   "metadata": {},
   "outputs": [
    {
     "data": {
      "text/plain": [
       "LogisticRegression(random_state=42, solver='liblinear')"
      ]
     },
     "execution_count": 32,
     "metadata": {},
     "output_type": "execute_result"
    }
   ],
   "source": [
    "model = LogisticRegression(solver='liblinear', C=1.0, random_state=42)\n",
    "model.fit(X_train, y_train)"
   ]
  },
  {
   "cell_type": "code",
   "execution_count": 33,
   "id": "088683a5",
   "metadata": {},
   "outputs": [
    {
     "data": {
      "text/plain": [
       "-0.09317894786773952"
      ]
     },
     "execution_count": 33,
     "metadata": {},
     "output_type": "execute_result"
    }
   ],
   "source": [
    "model.intercept_[0]"
   ]
  },
  {
   "cell_type": "code",
   "execution_count": 34,
   "id": "68c0869a",
   "metadata": {},
   "outputs": [
    {
     "data": {
      "text/plain": [
       "array([ 3.0000e-03,  3.6000e-03, -5.8327e+00, -3.1748e+00, -1.1400e-02,\n",
       "       -1.1090e-01,  1.4260e-01,  1.5935e+00, -1.3600e-02, -1.7049e+00,\n",
       "       -3.2000e-03, -4.1800e-02,  1.9465e+00, -8.3270e-01, -1.2071e+00])"
      ]
     },
     "execution_count": 34,
     "metadata": {},
     "output_type": "execute_result"
    }
   ],
   "source": [
    "model.coef_[0].round(4)"
   ]
  },
  {
   "cell_type": "code",
   "execution_count": 35,
   "id": "f7ebb11b",
   "metadata": {},
   "outputs": [],
   "source": [
    "y_pred = model.predict_proba(X_val)[:, 1]"
   ]
  },
  {
   "cell_type": "code",
   "execution_count": 36,
   "id": "818ff9fc",
   "metadata": {},
   "outputs": [],
   "source": [
    "price_decision = (y_pred >= 0.5)"
   ]
  },
  {
   "cell_type": "code",
   "execution_count": 37,
   "id": "9e210dff",
   "metadata": {},
   "outputs": [
    {
     "data": {
      "text/plain": [
       "0.7907761529808774"
      ]
     },
     "execution_count": 37,
     "metadata": {},
     "output_type": "execute_result"
    }
   ],
   "source": [
    "(y_val == price_decision).mean()"
   ]
  },
  {
   "cell_type": "code",
   "execution_count": 38,
   "id": "f77f7862",
   "metadata": {},
   "outputs": [],
   "source": [
    "df_pred = pd.DataFrame()\n",
    "df_pred['probability'] = y_pred\n",
    "df_pred['prediction'] = price_decision.astype(int)\n",
    "df_pred['actual'] = y_val"
   ]
  },
  {
   "cell_type": "code",
   "execution_count": 39,
   "id": "4e7d7be4",
   "metadata": {},
   "outputs": [],
   "source": [
    "df_pred['correct'] = df_pred.prediction == df_pred.actual"
   ]
  },
  {
   "cell_type": "code",
   "execution_count": 40,
   "id": "0911c4d4",
   "metadata": {},
   "outputs": [
    {
     "data": {
      "text/plain": [
       "0.7907761529808774"
      ]
     },
     "execution_count": 40,
     "metadata": {},
     "output_type": "execute_result"
    }
   ],
   "source": [
    "accuracy = df_pred.correct.mean()\n",
    "accuracy"
   ]
  },
  {
   "cell_type": "markdown",
   "id": "da5d2b70",
   "metadata": {},
   "source": [
    "#### Question 5\n",
    "\n",
    "    We have 9 features: 7 numerical features and 2 categorical.\n",
    "    Let's find the least useful one using the feature elimination technique.\n",
    "    Train a model with all these features (using the same parameters as in Q4).\n",
    "    Now exclude each feature from this set and train a model without it. Record the accuracy for each model.\n",
    "    For each feature, calculate the difference between the original accuracy and the accuracy without the feature.\n",
    "    Which of following feature has the smallest difference?\n",
    "        neighbourhood_group\n",
    "        room_type\n",
    "        number_of_reviews\n",
    "        reviews_per_month\n"
   ]
  },
  {
   "cell_type": "code",
   "execution_count": 41,
   "id": "3661a10e",
   "metadata": {},
   "outputs": [
    {
     "data": {
      "text/plain": [
       "0.7286021065548625"
      ]
     },
     "execution_count": 41,
     "metadata": {},
     "output_type": "execute_result"
    }
   ],
   "source": [
    "categorical = ['neighbourhood_group']\n",
    "numerical= ['latitude', 'longitude','minimum_nights', 'number_of_reviews', 'reviews_per_month',\n",
    "        'calculated_host_listings_count', 'availability_365']\n",
    "\n",
    "dv = DictVectorizer(sparse=False)\n",
    "\n",
    "train_dict = df_train[categorical + numerical].to_dict(orient='records')\n",
    "X_train = dv.fit_transform(train_dict)\n",
    "\n",
    "val_dict = df_val[categorical + numerical].to_dict(orient='records')\n",
    "X_val = dv.transform(val_dict)\n",
    "\n",
    "model = LogisticRegression(solver='liblinear', C=1.0, random_state=42)\n",
    "model.fit(X_train, y_train)\n",
    "y_pred = model.predict_proba(X_val)[:, 1]\n",
    "price_decision = (y_pred >= 0.5)\n",
    "acc_rt = (y_val == price_decision).mean()\n",
    "acc_rt"
   ]
  },
  {
   "cell_type": "code",
   "execution_count": 42,
   "id": "5a2d67f2",
   "metadata": {},
   "outputs": [
    {
     "data": {
      "text/plain": [
       "0.7498721750690255"
      ]
     },
     "execution_count": 42,
     "metadata": {},
     "output_type": "execute_result"
    }
   ],
   "source": [
    "categorical = ['room_type']\n",
    "numerical= ['latitude', 'longitude','minimum_nights', 'number_of_reviews', 'reviews_per_month',\n",
    "        'calculated_host_listings_count', 'availability_365']\n",
    "\n",
    "dv = DictVectorizer(sparse=False)\n",
    "\n",
    "train_dict = df_train[categorical + numerical].to_dict(orient='records')\n",
    "X_train = dv.fit_transform(train_dict)\n",
    "\n",
    "val_dict = df_val[categorical + numerical].to_dict(orient='records')\n",
    "X_val = dv.transform(val_dict)\n",
    "\n",
    "model = LogisticRegression(solver='liblinear', C=1.0, random_state=42)\n",
    "model.fit(X_train, y_train)\n",
    "y_pred = model.predict_proba(X_val)[:, 1]\n",
    "price_decision = (y_pred >= 0.5)\n",
    "acc_ng = (y_val == price_decision).mean()\n",
    "acc_ng"
   ]
  },
  {
   "cell_type": "code",
   "execution_count": 43,
   "id": "9ce1352a",
   "metadata": {},
   "outputs": [
    {
     "data": {
      "text/plain": [
       "0.7914919725943348"
      ]
     },
     "execution_count": 43,
     "metadata": {},
     "output_type": "execute_result"
    }
   ],
   "source": [
    "categorical = ['neighbourhood_group','room_type']\n",
    "numerical= ['latitude', 'longitude','minimum_nights', 'reviews_per_month',\n",
    "        'calculated_host_listings_count', 'availability_365']\n",
    "\n",
    "dv = DictVectorizer(sparse=False)\n",
    "\n",
    "train_dict = df_train[categorical + numerical].to_dict(orient='records')\n",
    "X_train = dv.fit_transform(train_dict)\n",
    "\n",
    "val_dict = df_val[categorical + numerical].to_dict(orient='records')\n",
    "X_val = dv.transform(val_dict)\n",
    "\n",
    "model = LogisticRegression(solver='liblinear', C=1.0, random_state=42)\n",
    "model.fit(X_train, y_train)\n",
    "y_pred = model.predict_proba(X_val)[:, 1]\n",
    "price_decision = (y_pred >= 0.5)\n",
    "acc_noR = (y_val == price_decision).mean()\n",
    "acc_noR"
   ]
  },
  {
   "cell_type": "code",
   "execution_count": 44,
   "id": "f66fc830",
   "metadata": {},
   "outputs": [
    {
     "data": {
      "text/plain": [
       "0.7907761529808774"
      ]
     },
     "execution_count": 44,
     "metadata": {},
     "output_type": "execute_result"
    }
   ],
   "source": [
    "categorical = ['neighbourhood_group','room_type']\n",
    "numerical= ['latitude', 'longitude','minimum_nights', 'number_of_reviews',\n",
    "        'calculated_host_listings_count', 'availability_365']\n",
    "\n",
    "dv = DictVectorizer(sparse=False)\n",
    "\n",
    "train_dict = df_train[categorical + numerical].to_dict(orient='records')\n",
    "X_train = dv.fit_transform(train_dict)\n",
    "\n",
    "val_dict = df_val[categorical + numerical].to_dict(orient='records')\n",
    "X_val = dv.transform(val_dict)\n",
    "\n",
    "model = LogisticRegression(solver='liblinear', C=1.0, random_state=42)\n",
    "model.fit(X_train, y_train)\n",
    "y_pred = model.predict_proba(X_val)[:, 1]\n",
    "price_decision = (y_pred >= 0.5)\n",
    "acc_rPM = (y_val == price_decision).mean()\n",
    "acc_rPM"
   ]
  },
  {
   "cell_type": "markdown",
   "id": "a446c483",
   "metadata": {},
   "source": [
    "#### Question 6\n",
    "\n",
    "    For this question, we'll see how to use a linear regression model from Scikit-Learn\n",
    "    We'll need to use the original column 'price'. Apply the logarithmic transformation to this column.\n",
    "    Fit the Ridge regression model on the training data.\n",
    "    This model has a parameter alpha. Let's try the following values: [0, 0.01, 0.1, 1, 10]\n",
    "    Which of these alphas leads to the best RMSE on the validation set? Round your RMSE scores to 3 decimal digits.\n",
    "\n",
    "If there are multiple options, select the smallest alpha."
   ]
  },
  {
   "cell_type": "code",
   "execution_count": 45,
   "id": "02d5440c",
   "metadata": {},
   "outputs": [],
   "source": [
    "from sklearn.linear_model import Ridge"
   ]
  },
  {
   "cell_type": "code",
   "execution_count": 46,
   "id": "f6ac20e5",
   "metadata": {},
   "outputs": [
    {
     "data": {
      "text/plain": [
       "Ridge()"
      ]
     },
     "execution_count": 46,
     "metadata": {},
     "output_type": "execute_result"
    }
   ],
   "source": [
    "categorical = ['neighbourhood_group', 'room_type']\n",
    "numerical= ['latitude', 'longitude','minimum_nights', 'number_of_reviews', 'reviews_per_month',\n",
    "        'calculated_host_listings_count', 'availability_365']\n",
    "\n",
    "dv = DictVectorizer(sparse=False)\n",
    "\n",
    "train_dict = df_copy_train[categorical + numerical].to_dict(orient='records')\n",
    "X_train = dv.fit_transform(train_dict)\n",
    "\n",
    "val_dict = df_copy_val[categorical + numerical].to_dict(orient='records')\n",
    "X_val = dv.transform(val_dict)\n",
    "\n",
    "model = Ridge()\n",
    "model.fit(X_train, y_train)\n"
   ]
  },
  {
   "cell_type": "code",
   "execution_count": 48,
   "id": "937b34dd",
   "metadata": {},
   "outputs": [
    {
     "data": {
      "text/plain": [
       "0.336"
      ]
     },
     "execution_count": 48,
     "metadata": {},
     "output_type": "execute_result"
    }
   ],
   "source": [
    "model.score(X_train, y_train).round(3)"
   ]
  },
  {
   "cell_type": "code",
   "execution_count": 49,
   "id": "a277dc14",
   "metadata": {},
   "outputs": [
    {
     "data": {
      "text/plain": [
       "{'alpha': 1.0,\n",
       " 'copy_X': True,\n",
       " 'fit_intercept': True,\n",
       " 'max_iter': None,\n",
       " 'normalize': False,\n",
       " 'random_state': None,\n",
       " 'solver': 'auto',\n",
       " 'tol': 0.001}"
      ]
     },
     "execution_count": 49,
     "metadata": {},
     "output_type": "execute_result"
    }
   ],
   "source": [
    "model.get_params()"
   ]
  },
  {
   "cell_type": "code",
   "execution_count": 51,
   "id": "66b0ddac",
   "metadata": {},
   "outputs": [],
   "source": [
    "from IPython.display import display"
   ]
  },
  {
   "cell_type": "code",
   "execution_count": 63,
   "id": "bcfd3222",
   "metadata": {},
   "outputs": [
    {
     "data": {
      "text/plain": [
       "0.3361254804222621"
      ]
     },
     "metadata": {},
     "output_type": "display_data"
    },
    {
     "name": "stdout",
     "output_type": "stream",
     "text": [
      "\n"
     ]
    },
    {
     "data": {
      "text/plain": [
       "0.3361254804222621"
      ]
     },
     "metadata": {},
     "output_type": "display_data"
    },
    {
     "name": "stdout",
     "output_type": "stream",
     "text": [
      "\n"
     ]
    },
    {
     "data": {
      "text/plain": [
       "0.3361254804222621"
      ]
     },
     "metadata": {},
     "output_type": "display_data"
    },
    {
     "name": "stdout",
     "output_type": "stream",
     "text": [
      "\n"
     ]
    },
    {
     "data": {
      "text/plain": [
       "0.3361254804222621"
      ]
     },
     "metadata": {},
     "output_type": "display_data"
    },
    {
     "name": "stdout",
     "output_type": "stream",
     "text": [
      "\n"
     ]
    },
    {
     "data": {
      "text/plain": [
       "0.3361254804222621"
      ]
     },
     "metadata": {},
     "output_type": "display_data"
    },
    {
     "name": "stdout",
     "output_type": "stream",
     "text": [
      "\n"
     ]
    }
   ],
   "source": [
    "alpha = [0, 0.01, 0.1, 1, 10]\n",
    "\n",
    "\n",
    "for i in alpha:\n",
    "    model.set_params(alpha = i)\n",
    "    display(model.score(X_train, y_train))\n",
    "    print()"
   ]
  },
  {
   "cell_type": "code",
   "execution_count": null,
   "id": "916a944c",
   "metadata": {},
   "outputs": [],
   "source": []
  }
 ],
 "metadata": {
  "kernelspec": {
   "display_name": "Python [conda env:ml-zoomcamp]",
   "language": "python",
   "name": "conda-env-ml-zoomcamp-py"
  },
  "language_info": {
   "codemirror_mode": {
    "name": "ipython",
    "version": 3
   },
   "file_extension": ".py",
   "mimetype": "text/x-python",
   "name": "python",
   "nbconvert_exporter": "python",
   "pygments_lexer": "ipython3",
   "version": "3.8.11"
  }
 },
 "nbformat": 4,
 "nbformat_minor": 5
}
